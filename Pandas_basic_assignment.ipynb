{
 "cells": [
  {
   "cell_type": "raw",
   "id": "3428f61a-1f83-4429-bab5-76e9419ad21d",
   "metadata": {},
   "source": [
    "Q1. Create a Pandas Series that contains the following data: 4, 8, 15, 16, 23, and 42. Then, print the series.\n"
   ]
  },
  {
   "cell_type": "code",
   "execution_count": 3,
   "id": "ab1c1b9c-071c-4543-9fe9-314a5f4025bc",
   "metadata": {},
   "outputs": [
    {
     "name": "stdout",
     "output_type": "stream",
     "text": [
      "0     4\n",
      "1     8\n",
      "2    15\n",
      "3    16\n",
      "4    23\n",
      "5    42\n",
      "dtype: int64\n"
     ]
    }
   ],
   "source": [
    "import pandas as pd\n",
    "\n",
    "data = [4, 8, 15, 16, 23, 42]\n",
    "series = pd.Series(data)\n",
    "\n",
    "print(series)\n"
   ]
  },
  {
   "cell_type": "raw",
   "id": "3d065286-503f-4c25-baed-bb94e0937a20",
   "metadata": {},
   "source": [
    "In the above code, we import the Pandas library using import pandas as pd. Then, we create a Python list called data with the given numbers. Next, we create a Pandas Series called series using pd.Series(data), where data is the list we created. Finally, we use print(series) to display the Series with the elements 4, 8, 15, 16, 23, and 42."
   ]
  },
  {
   "cell_type": "raw",
   "id": "032c3b76-4aa2-439d-83d2-cb82df23e1f2",
   "metadata": {},
   "source": [
    "Q2. Create a variable of list type containing 10 elements in it, and apply pandas.Series function on the\n",
    "variable print it."
   ]
  },
  {
   "cell_type": "code",
   "execution_count": 4,
   "id": "05436795-d4f9-4e0b-b49d-17e021ee77dd",
   "metadata": {},
   "outputs": [
    {
     "name": "stdout",
     "output_type": "stream",
     "text": [
      "0     1\n",
      "1     2\n",
      "2     3\n",
      "3     4\n",
      "4     5\n",
      "5     6\n",
      "6     7\n",
      "7     8\n",
      "8     9\n",
      "9    10\n",
      "dtype: int64\n"
     ]
    }
   ],
   "source": [
    "import pandas as pd\n",
    "\n",
    "my_list = [1, 2, 3, 4, 5, 6, 7, 8, 9, 10]\n",
    "series = pd.Series(my_list)\n",
    "\n",
    "print(series)\n"
   ]
  },
  {
   "cell_type": "raw",
   "id": "6cf8c5a4-3423-43cd-aac5-50e0904d4370",
   "metadata": {},
   "source": [
    "In the above code, we first import the Pandas library using import pandas as pd. Then, we create a Python list called my_list with 10 elements. Next, we apply the pd.Series function to my_list to create a Pandas Series called series. Finally, we use print(series) to display the Series with the elements 1 to 10."
   ]
  },
  {
   "cell_type": "raw",
   "id": "a9736771-dc95-4429-ba4b-399ecbeb11d6",
   "metadata": {},
   "source": [
    "Q3. Create a Pandas DataFrame that contains the following data:"
   ]
  },
  {
   "cell_type": "code",
   "execution_count": 1,
   "id": "7b60dad7-ab97-40b9-b637-272f602eea88",
   "metadata": {},
   "outputs": [
    {
     "name": "stdout",
     "output_type": "stream",
     "text": [
      "     Name  Age  Gender\n",
      "0   Alice   25  Female\n",
      "1     Bob   30    Male\n",
      "2  Claire   27  Female\n"
     ]
    }
   ],
   "source": [
    "import pandas as pd\n",
    "\n",
    "data = {\n",
    "    'Name': ['Alice', 'Bob', 'Claire'],\n",
    "    'Age': [25, 30, 27],\n",
    "    'Gender': ['Female', 'Male', 'Female']\n",
    "}\n",
    "\n",
    "df = pd.DataFrame(data)\n",
    "\n",
    "print(df)\n"
   ]
  },
  {
   "cell_type": "raw",
   "id": "d772dbb0-e8e7-4e77-a446-54cb59e4578e",
   "metadata": {},
   "source": [
    "In the code above, we create a Python dictionary called data with three keys: 'Name', 'Age', and 'Gender'. The corresponding values are lists that contain the data for each column.\n",
    "\n",
    "We then create a Pandas DataFrame called df by passing the data dictionary to the pd.DataFrame function. Each key in the dictionary becomes a column name, and the corresponding list becomes the data for that column.\n",
    "\n",
    "Finally, we use print(df) to display the DataFrame with the given data, showing the columns \"Name\", \"Age\", and \"Gender\" along with their respective values."
   ]
  },
  {
   "cell_type": "raw",
   "id": "4565f37d-5a2d-495a-b298-0b7b02e1e007",
   "metadata": {},
   "source": [
    "Q4. What is ‘DataFrame’ in pandas and how is it different from pandas.series? Explain with an example."
   ]
  },
  {
   "cell_type": "raw",
   "id": "0f0ac8d4-d723-4543-beb5-beddbe3a8cfb",
   "metadata": {},
   "source": [
    "In pandas, a DataFrame is a two-dimensional labeled data structure that represents a table-like data structure with rows and columns. It is similar to a spreadsheet or a SQL table. A DataFrame can contain multiple columns, each with its own label, and each column can hold data of different types (e.g., numbers, strings, etc.). It provides a way to organize and manipulate structured data efficiently.\n",
    "\n",
    "On the other hand, a Series is a one-dimensional labeled array that can hold data of any type. It is similar to a column in a DataFrame or a single column of data in a spreadsheet. A Series has an associated index, which labels each element in the Series.\n",
    "\n",
    "To illustrate the difference between a DataFrame and a Series, consider the following example:"
   ]
  },
  {
   "cell_type": "code",
   "execution_count": 2,
   "id": "96b47342-d6a9-43a9-9800-5e31ebd6510a",
   "metadata": {},
   "outputs": [
    {
     "name": "stdout",
     "output_type": "stream",
     "text": [
      "DataFrame:\n",
      "      Name  Age         City\n",
      "0    Alice   25     New York\n",
      "1      Bob   30  Los Angeles\n",
      "2  Charlie   27      Chicago\n",
      "\n",
      "Series:\n",
      "0    25\n",
      "1    30\n",
      "2    27\n",
      "Name: Age, dtype: int64\n"
     ]
    }
   ],
   "source": [
    "import pandas as pd\n",
    "\n",
    "# Creating a DataFrame\n",
    "data = {'Name': ['Alice', 'Bob', 'Charlie'],\n",
    "        'Age': [25, 30, 27],\n",
    "        'City': ['New York', 'Los Angeles', 'Chicago']}\n",
    "\n",
    "df = pd.DataFrame(data)\n",
    "\n",
    "# Creating a Series\n",
    "ages = pd.Series([25, 30, 27], name='Age')\n",
    "\n",
    "print(\"DataFrame:\")\n",
    "print(df)\n",
    "print(\"\\nSeries:\")\n",
    "print(ages)\n"
   ]
  },
  {
   "cell_type": "raw",
   "id": "e8d1428d-4413-4f57-86db-80e5190876fd",
   "metadata": {},
   "source": [
    "In the example above, we first create a DataFrame called df with three columns: 'Name', 'Age', and 'City'. Each column is a Pandas Series. The DataFrame combines these Series together into a table-like structure where each Series corresponds to a column.\n",
    "\n",
    "We also create a separate Series called ages that only represents the ages column. It has its own name ('Age') and an associated index. The Series is a one-dimensional structure with a single column of data and its associated index.\n",
    "\n",
    "In summary, a DataFrame is a collection of Series arranged in a tabular format, whereas a Series is a one-dimensional labeled array. The key difference is that a DataFrame can hold multiple columns of data, while a Series represents a single column of data."
   ]
  },
  {
   "cell_type": "raw",
   "id": "f5d6695d-6602-44fd-bc15-032f29c4b202",
   "metadata": {},
   "source": [
    "Q5. What are some common functions you can use to manipulate data in a Pandas DataFrame? Can\n",
    "you give an example of when you might use one of these functions?"
   ]
  },
  {
   "cell_type": "raw",
   "id": "849b9ef5-f146-43d4-a84e-f012653d4831",
   "metadata": {},
   "source": [
    "Pandas provides a wide range of functions to manipulate and transform data in a DataFrame. Here are some common functions you can use:\n",
    "\n",
    "head() and tail(): These functions allow you to view the first or last few rows of a DataFrame. They are useful for getting a quick overview of the data.\n",
    "\n",
    "describe(): This function provides summary statistics of numerical columns in the DataFrame, such as count, mean, standard deviation, minimum, maximum, and quartiles. It helps in understanding the distribution of data.\n",
    "\n",
    "shape: This attribute gives the dimensions of the DataFrame, i.e., the number of rows and columns.\n",
    "\n",
    "info(): This function provides a concise summary of the DataFrame, including the data types of each column and the number of non-null values. It helps in understanding the data quality and identifying missing values.\n",
    "\n",
    "loc[] and iloc[]: These indexing methods allow for accessing specific rows or columns in a DataFrame. loc[] uses label-based indexing, while iloc[] uses integer-based indexing.\n",
    "\n",
    "drop(): This function is used to remove rows or columns from the DataFrame. It helps in eliminating unnecessary data or handling missing values.\n",
    "\n",
    "groupby(): This function is used for grouping data based on one or more columns and performing operations on the grouped data. It is useful for aggregating data, calculating group-wise statistics, or applying custom functions.\n",
    "\n",
    "sort_values(): This function is used to sort the DataFrame based on one or more columns. It helps in arranging data in a desired order.\n",
    "\n",
    "fillna(): This function is used to fill missing values in the DataFrame with specified values or with certain fill methods like forward fill or backward fill. It helps in handling missing or incomplete data.\n",
    "\n",
    "apply(): This function is used to apply a function to each element, row, or column of the DataFrame. It is useful for performing element-wise transformations or custom operations on the data."
   ]
  },
  {
   "cell_type": "raw",
   "id": "ad27a2b6-0713-4457-8b30-d9921df6aa46",
   "metadata": {},
   "source": [
    "Example usage:\n",
    "Let's consider an example where you have a DataFrame containing student records with columns like \"Name,\" \"Age,\" and \"Score.\" You might want to calculate the average score for each student. This can be done using the groupby() and mean() functions as follows:"
   ]
  },
  {
   "cell_type": "code",
   "execution_count": 5,
   "id": "6e4d693a-867c-4604-9ec1-bee2dccb2e93",
   "metadata": {},
   "outputs": [
    {
     "name": "stdout",
     "output_type": "stream",
     "text": [
      "Name\n",
      "Alice      82.5\n",
      "Bob        85.0\n",
      "Charlie    90.0\n",
      "Name: Score, dtype: float64\n"
     ]
    }
   ],
   "source": [
    "import pandas as pd\n",
    "\n",
    "data = {\n",
    "    'Name': ['Alice', 'Bob', 'Charlie', 'Alice', 'Bob'],\n",
    "    'Age': [18, 20, 19, 18, 20],\n",
    "    'Score': [80, 75, 90, 85, 95]\n",
    "}\n",
    "\n",
    "df = pd.DataFrame(data)\n",
    "\n",
    "average_scores = df.groupby('Name')['Score'].mean()\n",
    "\n",
    "print(average_scores)\n"
   ]
  },
  {
   "cell_type": "raw",
   "id": "301b882e-62db-4757-be8f-a433de3feb02",
   "metadata": {},
   "source": [
    "In this example, we group the DataFrame df by the \"Name\" column using groupby('Name'). Then, we select the \"Score\" column using ['Score'] and calculate the average score for each student using .mean(). The result is a Series with the student names as the index and their corresponding average scores."
   ]
  },
  {
   "cell_type": "raw",
   "id": "ed3a29bb-ab42-46d0-8690-1885abde75a1",
   "metadata": {},
   "source": [
    "Q6. Which of the following is mutable in nature Series, DataFrame, Panel?"
   ]
  },
  {
   "cell_type": "raw",
   "id": "bf9f56d4-6540-4368-82da-6916ea1c6775",
   "metadata": {},
   "source": [
    "Among the options provided (Series, DataFrame, Panel), both Series and DataFrame are mutable in nature, while Panel is not mutable.\n",
    "\n",
    "In pandas:\n",
    "\n",
    "Series: A Series is mutable, meaning you can modify the values in a Series after it has been created. You can change specific elements, add or remove elements, or perform operations that modify the data within the Series.\n",
    "\n",
    "DataFrame: A DataFrame is also mutable. You can modify the values in individual cells, add or remove rows and columns, or perform various operations that modify the data structure or values within the DataFrame.\n",
    "\n",
    "Panel: However, Panel is no longer recommended for general use and is deprecated as of pandas version 0.20.0. It is a 3-dimensional data structure that was used for handling panel data (an extension of DataFrame for handling data with dimensions of items, major axis, and minor axis). Panel is not considered mutable as it is no longer actively supported.\n",
    "\n",
    "To summarize, both Series and DataFrame are mutable in nature, while Panel is deprecated and not recommended for use."
   ]
  },
  {
   "cell_type": "raw",
   "id": "d812d47d-19a9-48b3-b02e-fa99b88f3566",
   "metadata": {},
   "source": [
    "Q7. Create a DataFrame using multiple Series. Explain with an example."
   ]
  },
  {
   "cell_type": "raw",
   "id": "97b420fc-95a7-4d3f-8a7b-978231e1cf78",
   "metadata": {},
   "source": [
    "To create a DataFrame using multiple Series, you can pass the Series objects as a dictionary to the pd.DataFrame() function. Each Series will become a column in the resulting DataFrame. Here's an example:"
   ]
  },
  {
   "cell_type": "code",
   "execution_count": 8,
   "id": "397085d7-692b-476e-b9f3-b85190bdf4cc",
   "metadata": {},
   "outputs": [
    {
     "name": "stdout",
     "output_type": "stream",
     "text": [
      "     Name  Age         City\n",
      "0   Alice   25     New York\n",
      "1     Bob   30  Los Angeles\n",
      "2  Claire   27      Chicago\n"
     ]
    }
   ],
   "source": [
    "import pandas as pd\n",
    "\n",
    "# Creating Series\n",
    "name_series = pd.Series(['Alice', 'Bob', 'Claire'])\n",
    "age_series = pd.Series([25, 30, 27])\n",
    "city_series = pd.Series(['New York', 'Los Angeles', 'Chicago'])\n",
    "\n",
    "# Creating DataFrame\n",
    "data = {'Name': name_series, 'Age': age_series, 'City': city_series}\n",
    "df = pd.DataFrame(data)\n",
    "\n",
    "print(df)\n"
   ]
  },
  {
   "cell_type": "raw",
   "id": "09f2d74c-1a3f-47cc-8aa6-c0caeb73b4f6",
   "metadata": {},
   "source": [
    "In the example above, we create three separate Series objects: name_series, age_series, and city_series. Each Series contains data for a specific column of the DataFrame.\n",
    "\n",
    "Then, we create a dictionary called data, where the keys are the column names ('Name', 'Age', and 'City') and the values are the corresponding Series objects.\n",
    "\n",
    "Finally, we pass the data dictionary to the pd.DataFrame() function to create the DataFrame df. Each key-value pair in the data dictionary becomes a column in the DataFrame.\n",
    "\n",
    "The resulting DataFrame consists of three columns ('Name', 'Age', and 'City') with their respective values from the Series objects. This allows you to combine multiple Series to form a cohesive DataFrame structure."
   ]
  },
  {
   "cell_type": "code",
   "execution_count": null,
   "id": "7de648ed-785e-40e5-982c-97c81eebf349",
   "metadata": {},
   "outputs": [],
   "source": []
  }
 ],
 "metadata": {
  "kernelspec": {
   "display_name": "Python 3 (ipykernel)",
   "language": "python",
   "name": "python3"
  },
  "language_info": {
   "codemirror_mode": {
    "name": "ipython",
    "version": 3
   },
   "file_extension": ".py",
   "mimetype": "text/x-python",
   "name": "python",
   "nbconvert_exporter": "python",
   "pygments_lexer": "ipython3",
   "version": "3.10.8"
  }
 },
 "nbformat": 4,
 "nbformat_minor": 5
}
